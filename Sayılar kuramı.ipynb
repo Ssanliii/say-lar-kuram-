Sayılar KuramıÖzel Üçgenler

Lisede öğrendiğimiz hatta bazılarımızın ortaokulda tanıştığı özel üçgenlerde aslında herkesin çok da iyi biliyorum dediği ya da bildiği sandığı ezberlediğimiz ama öğrendiğimizi sandığımız bu güzel konudan bahsetmek istiyorum.

Hemen hemen herkesin geometride en sevdiği konudur kenarlarına göre özel üçgenler. Belki de şuan bu yazıyı okurken bile ne var ki 3-4-5, 5-12-13, 8-15-17, 7-24-25,... sadece diyorsunuz içinizden.

Şunu sormak istiyorum acaba bunun üzerine hiç düşündünüz mü? Özel üçgenler sadece bunlar mı ya da ya da sadece Pisagor Teoremi mi?

-Hayır, değil.

Gelin birlikte sayılar kuramının güzelliklerinden faydalanalım ve benim matematikte en sevdiğim konulardan birinin üzerine düşünelim...

Tek Sayılarda

-Tek sayılar 1,3,5,7,... şeklinde devam eder.3 ile başlayalım(1 de evet tektir ama daha sonra incelenecektir!):

Tek sayılarda kural şu; sayımızın karesini alıyoruz ve hangi ardışık iki sayının toplamı diye düşünüyoruz ve bu düşüncenin sonunda bulduğumuz sonuç özel üçgenimizin kenarlarını veriyor. Uygulayalım ve birlikte görelim.

3 için: 3ün karesi 9, 9 hangi ardışık iki sayının toplamı 4 ve 5. Çıkan sonuç: 3 - 4 - 5 üçgeni

5 için: 5in karesi 25, 25 hangi ardışık iki sayının toplamı 12 ve 13. Çıkan sonuç: 5 - 12 - 13 üçgeni

7 için: 7in karesi 49, 49 hangi ardışık iki sayının toplamı 24 ve 25. Çıkan sonuç: 7 - 24 - 25 üçgeni

9 için: 9in karesi 81, 81 hangi ardışık iki sayının toplamı 40 ve 41. Çıkan sonuç: 9 - 40 - 41 üçgeni

Buraya kadar çoğunuz biliyorsunuz lisede test kitaplarında gördüğümüz bilgiler peki ya devamı?

11 için: 11in karesi 121, 121 hangi ardışık iki sayının toplamı 60 ve 61. Çıkan sonuç: 11 - 60 - 61 üçgeni

13 için: 13in karesi 169, 169 hangi ardışık iki sayının toplamı 84 ve 85. Çıkan sonuç: 13 - 84 - 85 üçgeni

15 için: 15in karesi 225, 225 hangi ardışık iki sayının toplamı 112 ve 113. Çıkan sonuç: 15 - 112 - 113 üçgeni

. . .

Görüldüğü üzere, tek sayılar nasıl sonsuza kadar devam ediyorsa bu yöntemle bu kurala uyan sonsuz tane özel üçgen bulabiliriz.

Çift Sayılarda

Çift sayılarda ise kuralımız şu:

-Önce sayımızın yine karesini al -Bulduğun sonucu ikiye böl -Bu sefer arasında 2 fark olan hangi iki sayının toplamı diye düşün ve özel üçgenleri bul.

Görelim...

Çift sayılar 0,2,4,6,... şeklinde devam eder. 0 uzunluk belirtmediği için üçgen belirtemez. 2 nin başka özel bir kuralı fark ve yine bir yazı da karşılaşmak ümidiyle. 4 ile başlayalım;

4 için: 4 ün karesi 16, 2 ye bölünce 8 ve 8 aralarında iki fark olan hangi iki sayının toplamı 3 ve 5. Sonuç: 3 - 4 - 5 üçgeni

6 için: 6 nın karesi 36, 2 ye bölünce 18 ve 18 aralarında iki fark olan hangi iki sayının toplamı 8 ve 10. Sonuç: 6 - 8 - 10 üçgeni

8 için: 8 in karesi 64, 2 ye bölünce 32 ve 32 aralarında iki fark olan hangi iki sayının toplamı 15 ve 17. Sonuç: 8 - 15 - 17 üçgeni

10 için: 10 nun karesi 100, 2 ye bölünce 50 ve 50 aralarında iki fark olan hangi iki sayının toplamı 3 ve 5. Sonuç: 10 - 24 - 26 üçgeni

12 için: 12 nin karesi 144, 2 ye bölünce 72 ve 72 aralarında iki fark olan hangi iki sayının toplamı 35 ve 37. Sonuç: 12 - 35 - 37 üçgeni

14 için: 14 ün karesi 196, 2 ye bölünce 98 ve 98 aralarında iki fark olan hangi iki sayının toplamı 48 ve 50. Sonuç: 14 - 48 - 50 üçgeni

16 için: 16 nın karesi 256, 2 ye bölünce 128 ve 128 aralarında iki fark olan hangi iki sayının toplamı 63 ve 65. Sonuç: 16 - 63 - 65 üçgeni

. . .

Böyle sonsuza kadar devam eder. Sizler de bu kurallara uyarak özel üçgenler bulabilirsiniz hem de hiçbir kitapta olmayan:))

Teşekkürler.

